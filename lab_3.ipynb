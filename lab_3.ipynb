{
  "nbformat": 4,
  "nbformat_minor": 0,
  "metadata": {
    "colab": {
      "provenance": [],
      "include_colab_link": true
    },
    "kernelspec": {
      "name": "python3",
      "display_name": "Python 3"
    },
    "language_info": {
      "name": "python"
    }
  },
  "cells": [
    {
      "cell_type": "markdown",
      "metadata": {
        "id": "view-in-github",
        "colab_type": "text"
      },
      "source": [
        "<a href=\"https://colab.research.google.com/github/Yashwanthkumar371/AIML-2024-2025/blob/main/lab_3.ipynb\" target=\"_parent\"><img src=\"https://colab.research.google.com/assets/colab-badge.svg\" alt=\"Open In Colab\"/></a>"
      ]
    },
    {
      "cell_type": "code",
      "source": [
        "from os import terminal_size\n",
        "from collections  import namedtuple,Counter,defaultdict\n",
        "import random\n",
        "import math\n",
        "import functools\n",
        "cache = functools.lru_cache(10**6)\n",
        "class Game:\n",
        "  def actions(self,state):\n",
        "    raise NotImplementedError\n",
        "  def result(self,state,move):\n",
        "    raise NotImplementedError\n",
        "  def is_terminal(self,state):\n",
        "    return not self.actions(state)\n",
        "  def utility(self,state,player):\n",
        "    raise NotImplementedError\n",
        "  def play_game(game,strategies: dict,verbose=False):\n",
        "    state=game.initial\n",
        "    while not game.is_terminal(state):\n",
        "      player = state.to_move\n",
        "      move = strategies[player](game,state)\n",
        "      state = game.result(state,move)\n",
        "      if verbose:\n",
        "        print('Player',player,'move:',move)\n",
        "        print(state)\n",
        "      return state"
      ],
      "metadata": {
        "id": "6zT8gay4N7Se"
      },
      "execution_count": null,
      "outputs": []
    },
    {
      "cell_type": "markdown",
      "source": [],
      "metadata": {
        "id": "q-D2dCWtUpv4"
      }
    },
    {
      "cell_type": "code",
      "source": [
        "from re import A\n",
        "def minimax_seach(game, state):\n",
        "  player = state.to_move\n",
        "  def max_value(state):\n",
        "    if game.is_terminal(state):\n",
        "      return game.utility(state,player),None\n",
        "      v,move=-infinity,None\n",
        "      for a in game.actions(state):\n",
        "        v2,_=min_value(game.result(state,a))\n",
        "        if v2 < v:\n",
        "            v, move = v2, a\n",
        "        return v, move\n",
        "        return max_value(state)\n",
        "        infinity =math.inf"
      ],
      "metadata": {
        "id": "U9c0ZNyQUroH"
      },
      "execution_count": null,
      "outputs": []
    },
    {
      "cell_type": "code",
      "source": [],
      "metadata": {
        "id": "Oe73EboCYCwK"
      },
      "execution_count": null,
      "outputs": []
    },
    {
      "cell_type": "markdown",
      "source": [],
      "metadata": {
        "id": "fX6LGuQdT17X"
      }
    }
  ]
}